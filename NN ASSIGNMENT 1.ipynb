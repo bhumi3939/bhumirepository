{
  "nbformat": 4,
  "nbformat_minor": 0,
  "metadata": {
    "colab": {
      "provenance": []
    },
    "kernelspec": {
      "name": "python3",
      "display_name": "Python 3"
    },
    "language_info": {
      "name": "python"
    }
  },
  "cells": [
    {
      "cell_type": "code",
      "execution_count": 1,
      "metadata": {
        "colab": {
          "base_uri": "https://localhost:8080/"
        },
        "id": "Qed7ueSKUaNh",
        "outputId": "cabf1fad-6d37-4de1-b936-0c16931ffee8"
      },
      "outputs": [
        {
          "output_type": "stream",
          "name": "stdout",
          "text": [
            "The original string is : bhumika\n",
            "The reversed string after deletin at least 2 characterrs is : akimuhb\n"
          ]
        }
      ],
      "source": [
        "def reverse(s):\n",
        "\tstr = \"\"\n",
        "\tfor i in s:\n",
        "\t\tstr = i + str\n",
        "\treturn str\n",
        "\n",
        "s = \"bhumika\"\n",
        "\n",
        "print(\"The original string is : \", end=\"\")\n",
        "print(s)\n",
        "\n",
        "print(\"The reversed string after deletin at least 2 characterrs is : \", end=\"\")\n",
        "print(reverse(s))"
      ]
    },
    {
      "cell_type": "code",
      "source": [
        "# Take input from user for two numbers\n",
        "num1 = float(input(\"Enter first number: \"))\n",
        "num2 = float(input(\"Enter second number: \"))\n",
        "\n",
        "# Perform arithmetic operations\n",
        "sum_result = num1 + num2\n",
        "difference_result = num1 - num2\n",
        "product_result = num1 * num2\n",
        "\n",
        "# Check if num2 is not zero for division operation\n",
        "if num2 != 0:\n",
        "    division_result = num1 / num2\n",
        "else:\n",
        "    division_result = \"Division by zero is undefined\"\n",
        "\n",
        "# Print results\n",
        "print(f\"Sum: {num1} + {num2} = {sum_result}\")\n",
        "print(f\"Difference: {num1} - {num2} = {difference_result}\")\n",
        "print(f\"Product: {num1} * {num2} = {product_result}\")\n",
        "print(f\"Division: {num1} / {num2} = {division_result}\")\n"
      ],
      "metadata": {
        "colab": {
          "base_uri": "https://localhost:8080/"
        },
        "id": "TIoxFWxKVJw_",
        "outputId": "d5ab170f-7b97-4897-b3aa-6f6f5f0bdb33"
      },
      "execution_count": 2,
      "outputs": [
        {
          "output_type": "stream",
          "name": "stdout",
          "text": [
            "Enter first number: 2\n",
            "Enter second number: 4\n",
            "Sum: 2.0 + 4.0 = 6.0\n",
            "Difference: 2.0 - 4.0 = -2.0\n",
            "Product: 2.0 * 4.0 = 8.0\n",
            "Division: 2.0 / 4.0 = 0.5\n"
          ]
        }
      ]
    },
    {
      "cell_type": "code",
      "source": [
        "# Input a sentence from the user\n",
        "sentence = input(\"Enter a sentence: \")\n",
        "\n",
        "# Replace 'python' with 'pythons'\n",
        "modified_sentence = sentence.replace('python', 'pythons')\n",
        "\n",
        "# Print the modified sentence\n",
        "print(\"Modified sentence:\")\n",
        "print(modified_sentence)\n"
      ],
      "metadata": {
        "colab": {
          "base_uri": "https://localhost:8080/"
        },
        "id": "NCZOP6ERW3nw",
        "outputId": "a3a35477-dfa1-4da3-baeb-045af571147d"
      },
      "execution_count": 3,
      "outputs": [
        {
          "output_type": "stream",
          "name": "stdout",
          "text": [
            "Enter a sentence: i hate python\n",
            "Modified sentence:\n",
            "i hate pythons\n"
          ]
        }
      ]
    },
    {
      "cell_type": "code",
      "source": [
        "# Function to determine the letter grade based on class score\n",
        "def get_letter_grade(class_score):\n",
        "    if class_score >= 90 and class_score <= 100:\n",
        "        return \"A\"\n",
        "    elif class_score >= 80 and class_score < 90:\n",
        "        return \"B\"\n",
        "    elif class_score >= 70 and class_score < 80:\n",
        "        return \"C\"\n",
        "    elif class_score >= 60 and class_score < 70:\n",
        "        return \"D\"\n",
        "    elif class_score >= 0 and class_score < 60:\n",
        "        return \"F\"\n",
        "    else:\n",
        "        return \"Invalid score\"\n",
        "\n",
        "# Input class score\n",
        "class_score = float(input(\"Enter the class score: \"))\n",
        "\n",
        "# Get the letter grade\n",
        "letter_grade = get_letter_grade(class_score)\n",
        "\n",
        "# Print the letter grade\n",
        "print(f\"The letter grade for the class score {class_score} is: {letter_grade}\")\n"
      ],
      "metadata": {
        "colab": {
          "base_uri": "https://localhost:8080/"
        },
        "id": "F19mL1k7XjPc",
        "outputId": "92fe0dbb-5e72-4f8d-feb9-a37c4311ec8e"
      },
      "execution_count": 4,
      "outputs": [
        {
          "output_type": "stream",
          "name": "stdout",
          "text": [
            "Enter the class score: 77\n",
            "The letter grade for the class score 77.0 is: C\n"
          ]
        }
      ]
    }
  ]
}
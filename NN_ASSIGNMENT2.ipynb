{
  "cells": [
    {
      "cell_type": "code",
      "execution_count": 1,
      "metadata": {
        "colab": {
          "base_uri": "https://localhost:8080/"
        },
        "id": "OjUMsp8BVTHW",
        "outputId": "77bc90d4-a61e-4b55-d717-04780e664a89"
      },
      "outputs": [
        {
          "name": "stdout",
          "output_type": "stream",
          "text": [
            "Enter your first name: BHOOMIKA\n",
            "Enter your last name: MURALIDHAR\n",
            "Full Name: BHOOMIKA MURALIDHAR\n",
            "String Alternative: BOMK UAIHR\n"
          ]
        }
      ],
      "source": [
        "def fullname(first_name, last_name):\n",
        "    return f\"{first_name} {last_name}\"\n",
        "\n",
        "def string_alternative(full_name):\n",
        "    return full_name[::2]\n",
        "\n",
        "def main():\n",
        "    # Taking input from the user\n",
        "    first_name = input(\"Enter your first name: \")\n",
        "    last_name = input(\"Enter your last name: \")\n",
        "\n",
        "    # Getting the full name\n",
        "    full_name = fullname(first_name, last_name)\n",
        "    print(f\"Full Name: {full_name}\")\n",
        "\n",
        "    # Getting every other character from the full name\n",
        "    alternative_string = string_alternative(full_name)\n",
        "    print(f\"String Alternative: {alternative_string}\")\n",
        "\n",
        "if __name__ == \"__main__\":\n",
        "    main()\n"
      ]
    },
    {
      "cell_type": "code",
      "execution_count": 3,
      "metadata": {
        "id": "XjLQH11JXn9I"
      },
      "outputs": [],
      "source": [
        "def count_words(line):\n",
        "    word_counts = {}\n",
        "    words = line.split()\n",
        "    for word in words:\n",
        "        if word in word_counts:\n",
        "            word_counts[word] += 1\n",
        "        else:\n",
        "            word_counts[word] = 1\n",
        "    return word_counts\n",
        "\n",
        "def process_file(input_file, output_file):\n",
        "    with open(input_file, 'r') as infile, open(output_file, 'w') as outfile:\n",
        "        # Reading lines from the input file\n",
        "        lines = infile.readlines()\n",
        "\n",
        "        # Writing the original lines to the output file\n",
        "        for line in lines:\n",
        "            outfile.write(line)\n",
        "\n",
        "        # Adding word count header to the output file\n",
        "        outfile.write(\"\\nWord_Count:\\n\")\n",
        "\n",
        "        # Counting words and writing the word count to the output file\n",
        "        word_count_total = {}\n",
        "        for line in lines:\n",
        "            word_counts = count_words(line)\n",
        "            for word, count in word_counts.items():\n",
        "                if word in word_count_total:\n",
        "                    word_count_total[word] += count\n",
        "                else:\n",
        "                    word_count_total[word] = count\n",
        "\n",
        "        for word, count in word_count_total.items():\n",
        "            outfile.write(f\"{word}: {count}\\n\")\n",
        "\n",
        "if __name__ == \"__main__\":\n",
        "    input_file = '/input.txt'\n",
        "    output_file = '/output.txt'\n",
        "    process_file(input_file, output_file)\n"
      ]
    },
    {
      "cell_type": "code",
      "execution_count": 7,
      "metadata": {
        "colab": {
          "base_uri": "https://localhost:8080/"
        },
        "id": "bprx0b4AaMNN",
        "outputId": "3746a2bd-50f3-44ae-faf2-0257700ca90d"
      },
      "outputs": [
        {
          "name": "stdout",
          "output_type": "stream",
          "text": [
            "Enter the number of heights: 2\n",
            "Enter height 1 in inches: 145\n",
            "Enter height 2 in inches: 176\n",
            "Heights in inches: [145.0, 176.0]\n",
            "Converted heights using nested loop: [368.3, 447.04]\n",
            "Converted heights using list comprehension: [368.3, 447.04]\n"
          ]
        }
      ],
      "source": [
        "# Conversion factor from inches to centimeters\n",
        "INCH_TO_CM = 2.54\n",
        "# Function to read heights from the user\n",
        "def read_heights():\n",
        "    heights = []\n",
        "    n = int(input(\"Enter the number of heights: \"))\n",
        "    for i in range(n):\n",
        "        height = float(input(f\"Enter height {i+1} in inches: \"))\n",
        "        heights.append(height)\n",
        "    return heights\n",
        "# Nested Interactive loop\n",
        "def convert_heights_nested_loop(heights):\n",
        "    heights_cm = []\n",
        "    for height in heights:\n",
        "        heights_cm.append(round(height * INCH_TO_CM, 2))\n",
        "    return heights_cm\n",
        "# List comprehensions\n",
        "def convert_heights_list_comprehension(heights):\n",
        "    return [round(height * INCH_TO_CM, 2) for height in heights]\n",
        "def main():\n",
        "    # Read heights from the user\n",
        "    heights_in = read_heights()\n",
        "    print(f\"Heights in inches: {heights_in}\")\n",
        "    # Convert using nested loop\n",
        "    heights_cm_nested_loop = convert_heights_nested_loop(heights_in)\n",
        "    print(f\"Converted heights using nested loop: {heights_cm_nested_loop}\")\n",
        "    # Convert using list comprehension\n",
        "    heights_cm_list_comprehension = convert_heights_list_comprehension(heights_in)\n",
        "    print(f\"Converted heights using list comprehension: {heights_cm_list_comprehension}\")\n",
        "if __name__ == \"__main__\":\n",
        "    main()\n"
      ]
    }
  ],
  "metadata": {
    "colab": {
      "provenance": []
    },
    "kernelspec": {
      "display_name": "Python 3",
      "name": "python3"
    },
    "language_info": {
      "name": "python"
    }
  },
  "nbformat": 4,
  "nbformat_minor": 0
}
